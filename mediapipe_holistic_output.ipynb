{
 "cells": [
  {
   "cell_type": "code",
   "execution_count": null,
   "id": "fce953cc-e16d-4979-8e44-c8d540d7e2ee",
   "metadata": {
    "id": "fce953cc-e16d-4979-8e44-c8d540d7e2ee"
   },
   "outputs": [],
   "source": [
    "import cv2\n",
    "import mediapipe as mp\n",
    "import matplotlib.pyplot as plt\n",
    "\n",
    "mp_drawing = mp.solutions.drawing_utils\n",
    "mp_drawing_styles = mp.solutions.drawing_styles\n",
    "mp_holistic = mp.solutions.holistic\n",
    "\n",
    "\n",
    "\n",
    "# For webcam input:\n",
    "cap = cv2.VideoCapture(0)\n",
    "\n",
    "if not cap.isOpened():\n",
    "    print(\"Error: Could not open video device\")\n",
    "\n",
    "with mp_holistic.Holistic(\n",
    "    min_detection_confidence=0.5,\n",
    "    min_tracking_confidence=0.5) as holistic:\n",
    "    \n",
    "  while cap.isOpened():\n",
    "    success, image = cap.read()\n",
    "    if not success:\n",
    "      print(\"Ignoring empty camera frame.\")\n",
    "      # If loading a video, use 'break' instead of 'continue'.\n",
    "      continue\n",
    "\n",
    "  \n",
    "    image.flags.writeable = False\n",
    "    image = cv2.cvtColor(image, cv2.COLOR_BGR2RGB)\n",
    "    results = holistic.process(image)\n",
    "    print(results)\n",
    "    break\n",
    "\n",
    "    # Draw landmark annotation on the image.\n",
    "    image.flags.writeable = True\n",
    "    image = cv2.cvtColor(image, cv2.COLOR_RGB2BGR)\n",
    "    mp_drawing.draw_landmarks(\n",
    "        image,\n",
    "        results.face_landmarks,\n",
    "        mp_holistic.FACEMESH_CONTOURS,\n",
    "        landmark_drawing_spec=None,\n",
    "        connection_drawing_spec=mp_drawing_styles\n",
    "        .get_default_face_mesh_contours_style())\n",
    "    mp_drawing.draw_landmarks(\n",
    "        image,\n",
    "        results.pose_landmarks,\n",
    "        mp_holistic.POSE_CONNECTIONS,\n",
    "        landmark_drawing_spec=mp_drawing_styles\n",
    "        .get_default_pose_landmarks_style())\n",
    "    # Flip the image horizontally for a selfie-view display.\n",
    "    cv2.imshow('MediaPipe Holistic', cv2.flip(image, 1))\n",
    "    if cv2.waitKey(5) & 0xFF == 27:\n",
    "      break\n",
    "cap.release()"
   ]
  },
  {
   "cell_type": "code",
   "execution_count": null,
   "id": "f24382a3-d806-4c7e-aa78-a8e224cb1512",
   "metadata": {
    "colab": {
     "base_uri": "https://localhost:8080/",
     "height": 141
    },
    "id": "f24382a3-d806-4c7e-aa78-a8e224cb1512",
    "outputId": "471d2e4f-c58e-4e44-bd28-66f93a3ef2d2"
   },
   "outputs": [],
   "source": [
    "results.count"
   ]
  },
  {
   "cell_type": "markdown",
   "id": "cd4162d4",
   "metadata": {
    "id": "cd4162d4"
   },
   "source": [
    "#Converting Mediapipe to Dataframe"
   ]
  },
  {
   "cell_type": "code",
   "execution_count": null,
   "id": "bfe370f3",
   "metadata": {
    "id": "bfe370f3"
   },
   "outputs": [],
   "source": [
    "import matplotlib.pyplot as plt\n",
    "import pandas as pd\n",
    "import numpy as np\n",
    "\n",
    "face = pd.DataFrame()\n",
    "pose = pd.DataFrame()\n",
    "left_hand = pd.DataFrame()\n",
    "right_hand = pd.DataFrame()\n",
    "\n",
    "if results.face_landmarks is not None:\n",
    "    for i, point in enumerate(results.face_landmarks.landmark):\n",
    "        face.loc[i, ['x','y','z']] = [point.x, point.y,point.z]\n",
    "if results.pose_landmarks is not None:\n",
    "    for i, point in enumerate(results.pose_landmarks.landmark):\n",
    "        pose.loc[i, ['x','y','z']] = [point.x, point.y,point.z]\n",
    "if results.left_hand_landmarks is not None:\n",
    "    for i, point in enumerate(results.left_hand_landmarks.landmark):\n",
    "        left_hand.loc[i, ['x','y','z']] = [point.x, point.y,point.z]\n",
    "if results.right_hand_landmarks is not None:\n",
    "    for i, point in enumerate(results.right_hand_landmarks.landmark):\n",
    "        right_hand.loc[i, ['x','y','z']] = [point.x, point.y,point.z]"
   ]
  },
  {
   "cell_type": "markdown",
   "id": "aa265777",
   "metadata": {
    "id": "aa265777"
   },
   "source": [
    "#Create the Kaggle Type Format from our detected Landmarks"
   ]
  },
  {
   "cell_type": "code",
   "execution_count": null,
   "id": "e75df2c4-41f2-4c13-896c-75eb14c09fb9",
   "metadata": {},
   "outputs": [],
   "source": [
    "face.plot(x='x', y='y',kind='scatter')\n"
   ]
  },
  {
   "cell_type": "code",
   "execution_count": null,
   "id": "aaa2db80",
   "metadata": {
    "id": "aaa2db80"
   },
   "outputs": [],
   "source": [
    "landmarks = pd.DataFrame()"
   ]
  },
  {
   "cell_type": "markdown",
   "id": "3ed01b3b",
   "metadata": {
    "id": "3ed01b3b"
   },
   "source": [
    "Indices in face"
   ]
  },
  {
   "cell_type": "code",
   "execution_count": null,
   "id": "b89c357a",
   "metadata": {
    "id": "b89c357a"
   },
   "outputs": [],
   "source": [
    "face"
   ]
  },
  {
   "cell_type": "code",
   "execution_count": null,
   "id": "6b7f7fb8",
   "metadata": {
    "id": "6b7f7fb8"
   },
   "outputs": [],
   "source": [
    "face.shape"
   ]
  },
  {
   "cell_type": "code",
   "execution_count": null,
   "id": "a0f3d66f",
   "metadata": {
    "id": "a0f3d66f"
   },
   "outputs": [],
   "source": [
    "def create_frame_landmark_df(results,frame):\n",
    "    #for having values and rows for every landmark index\n",
    "    xyz_skel= xyz[['type','landmark_index']].drop_duplicates().reset_index(drop=True).copy()\n",
    "    face = pd.DataFrame()\n",
    "    pose = pd.DataFrame()\n",
    "    left_hand = pd.DataFrame()\n",
    "    right_hand = pd.DataFrame()\n",
    "\n",
    "    if results.face_landmarks is not None:\n",
    "        for i, point in enumerate(results.face_landmarks.landmark):\n",
    "            face.loc[i, ['x','y','z']] = [point.x, point.y,point.z]\n",
    "    if results.pose_landmarks is not None:\n",
    "        for i, point in enumerate(results.pose_landmarks.landmark):\n",
    "            pose.loc[i, ['x','y','z']] = [point.x, point.y,point.z]\n",
    "    if results.left_hand_landmarks is not None:\n",
    "        for i, point in enumerate(results.left_hand_landmarks.landmark):\n",
    "            left_hand.loc[i, ['x','y','z']] = [point.x, point.y,point.z]\n",
    "    if results.right_hand_landmarks is not None:\n",
    "        for i, point in enumerate(results.right_hand_landmarks.landmark):\n",
    "            right_hand.loc[i, ['x','y','z']] = [point.x, point.y,point.z]\n",
    "\n",
    "    face = face.reset_index().rename(columns={'index':'landmark_index'}).assign(type='face')\n",
    "\n",
    "    pose = pose.reset_index().rename(columns={'index':'landmark_index'}).assign(type='pose')\n",
    "\n",
    "    left_hand = left_hand.reset_index().rename(columns={'index':'landmark_index'}).assign(type='left_hand')\n",
    "\n",
    "    right_hand = right_hand.reset_index().rename(columns={'index':'landmark_index'}).assign(type='right_hand')\n",
    "\n",
    "    landmarks = pd.concat([face,pose,left_hand,right_hand]).reset_index(drop=True)\n",
    "    #So that skel will have landmarks even if they do not exist\n",
    "    landmarks = xyz_skel.merge(landmarks, on =['type','landmark_index'], how='left')\n",
    "    #to have actual unique frames\n",
    "    landmarks = landmarks.assign(frame=frame)\n",
    "    return landmarks"
   ]
  },
  {
   "cell_type": "code",
   "execution_count": null,
   "id": "9c406347",
   "metadata": {
    "id": "9c406347"
   },
   "outputs": [],
   "source": [
    "landmarks = create_frame_landmark_df(results,0)"
   ]
  },
  {
   "cell_type": "code",
   "execution_count": null,
   "id": "2a60fb7d",
   "metadata": {
    "id": "2a60fb7d"
   },
   "outputs": [],
   "source": [
    "pose.shape"
   ]
  },
  {
   "cell_type": "code",
   "execution_count": null,
   "id": "60e291dc",
   "metadata": {
    "id": "60e291dc"
   },
   "outputs": [],
   "source": [
    "left_hand.shape"
   ]
  },
  {
   "cell_type": "code",
   "execution_count": null,
   "id": "43de9085",
   "metadata": {
    "id": "43de9085"
   },
   "outputs": [],
   "source": [
    "right_hand.shape"
   ]
  },
  {
   "cell_type": "markdown",
   "id": "91624b94",
   "metadata": {
    "id": "91624b94"
   },
   "source": [
    "#Sign Counts"
   ]
  },
  {
   "cell_type": "code",
   "execution_count": null,
   "id": "4b056e23",
   "metadata": {
    "id": "4b056e23"
   },
   "outputs": [],
   "source": [
    "train['sign'].value_counts()"
   ]
  },
  {
   "cell_type": "markdown",
   "id": "a10c90a9",
   "metadata": {
    "id": "a10c90a9"
   },
   "source": [
    "#Kaggle Competition Data"
   ]
  },
  {
   "cell_type": "code",
   "execution_count": null,
   "id": "dbce5b22-4146-41e2-897b-c6211470f3cd",
   "metadata": {},
   "outputs": [],
   "source": [
    "train = pd.read_csv('/Users/aayus/MLProjects/ASL/asl-signs/train.csv')\n",
    "pq_file = '/Users/aayus/MLProjects/ASL/asl-signs/train_landmark_files/16069/10042041.parquet'\n",
    "xyz = pd.read_parquet(pq_file)"
   ]
  },
  {
   "cell_type": "markdown",
   "id": "2f5f300b",
   "metadata": {
    "id": "2f5f300b"
   },
   "source": [
    "#Maximum Amount of Points to predict"
   ]
  },
  {
   "cell_type": "code",
   "execution_count": null,
   "id": "609f72e5",
   "metadata": {
    "id": "609f72e5"
   },
   "outputs": [],
   "source": [
    "xyz.query('frame == 83')['type'].value_counts()"
   ]
  },
  {
   "cell_type": "code",
   "execution_count": null,
   "id": "280a7efa",
   "metadata": {
    "id": "280a7efa"
   },
   "outputs": [],
   "source": [
    "train.query('sequence_id==10042041')"
   ]
  },
  {
   "cell_type": "code",
   "execution_count": null,
   "id": "9ac82483",
   "metadata": {
    "id": "9ac82483"
   },
   "outputs": [],
   "source": [
    "ROWS_PER_FRAME = 543  # number of landmarks per frame\n",
    "\n",
    "def load_relevant_data_subset(pq_path):\n",
    "    data_columns = ['x', 'y', 'z']\n",
    "    data = pd.read_parquet(pq_path, columns=data_columns)\n",
    "    n_frames = int(len(data) / ROWS_PER_FRAME)\n",
    "    data = data.values.reshape(n_frames, ROWS_PER_FRAME, len(data_columns))\n",
    "    return data.astype(np.float32)\n"
   ]
  },
  {
   "cell_type": "code",
   "execution_count": null,
   "id": "bd66ca56",
   "metadata": {
    "id": "bd66ca56"
   },
   "outputs": [],
   "source": [
    "xyz_np = load_relevant_data_subset(pq_file)"
   ]
  },
  {
   "cell_type": "code",
   "execution_count": null,
   "id": "379d7739",
   "metadata": {
    "id": "379d7739"
   },
   "outputs": [],
   "source": []
  }
 ],
 "metadata": {
  "colab": {
   "provenance": []
  },
  "kernelspec": {
   "display_name": "ipcv",
   "language": "python",
   "name": "ipcv"
  },
  "language_info": {
   "codemirror_mode": {
    "name": "ipython",
    "version": 3
   },
   "file_extension": ".py",
   "mimetype": "text/x-python",
   "name": "python",
   "nbconvert_exporter": "python",
   "pygments_lexer": "ipython3",
   "version": "3.11.5"
  }
 },
 "nbformat": 4,
 "nbformat_minor": 5
}
