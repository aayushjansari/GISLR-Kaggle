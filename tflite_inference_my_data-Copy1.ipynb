{
 "cells": [
  {
   "cell_type": "markdown",
   "metadata": {},
   "source": [
    "#Run tflite inference on a example Dataset"
   ]
  },
  {
   "cell_type": "code",
   "execution_count": 2,
   "metadata": {},
   "outputs": [
    {
     "ename": "",
     "evalue": "",
     "output_type": "error",
     "traceback": [
      "\u001b[1;31mCannot execute code, session has been disposed. Please try restarting the Kernel."
     ]
    },
    {
     "ename": "",
     "evalue": "",
     "output_type": "error",
     "traceback": [
      "\u001b[1;31mThe Kernel crashed while executing code in the the current cell or a previous cell. Please review the code in the cell(s) to identify a possible cause of the failure. Click <a href='https://aka.ms/vscodeJupyterKernelCrash'>here</a> for more info. View Jupyter <a href='command:jupyter.viewOutput'>log</a> for further details."
     ]
    }
   ],
   "source": [
    "import pandas as pd\n",
    "import numpy as np\n",
    "import matplotlib.pyplot as plt\n",
    "import tflite_runtime.interpreter as tflite\n",
    "\n",
    "\n",
    "ROWS_PER_FRAME = 543  # number of landmarks per frame\n",
    "\n",
    "def load_relevant_data_subset(pq_path):\n",
    "    data_columns = ['x', 'y', 'z']\n",
    "    data = pd.read_parquet(pq_path, columns=data_columns)\n",
    "    n_frames = int(len(data) / ROWS_PER_FRAME)\n",
    "    data = data.values.reshape(n_frames, ROWS_PER_FRAME, len(data_columns))\n",
    "    return data.astype(np.float32)\n",
    "\n"
   ]
  },
  {
   "cell_type": "markdown",
   "metadata": {},
   "source": [
    "pip install tensorflow-addons"
   ]
  },
  {
   "cell_type": "code",
   "execution_count": 8,
   "metadata": {},
   "outputs": [],
   "source": [
    "interpreter = tflite.Interpreter('/media/psf/Home/MLProjects/ASL/holistic/model.tflite')\n",
    "found_signatures = list(interpreter.get_signature_list().keys())\n",
    "prediction_fn = interpreter.get_signature_runner(\"serving_default\")\n",
    "#print(found_signatures)\n",
    "train = pd.read_csv('/media/psf/Home/MLProjects/ASL/asl-signs/train.csv')\n",
    "# Add ordinally Encoded Sign (assign number to each sign name)\n",
    "train['sign_ord'] = train['sign'].astype('category').cat.codes\n",
    "\n",
    "# Dictionaries to translate sign <-> ordinal encoded sign\n",
    "SIGN2ORD = train[['sign', 'sign_ord']].set_index('sign').squeeze().to_dict()\n",
    "ORD2SIGN = train[['sign_ord', 'sign']].set_index('sign_ord').squeeze().to_dict()"
   ]
  },
  {
   "cell_type": "markdown",
   "metadata": {},
   "source": [
    "#pq_file = '/media/psf/Home/Downloads/ASL/asl-signs/train_landmark_files/16069/10042041.parquet"
   ]
  },
  {
   "cell_type": "code",
   "execution_count": 9,
   "metadata": {},
   "outputs": [],
   "source": [
    "def get_prediction(prediction_fn, pq_file):\n",
    "    xyz_np = load_relevant_data_subset(pq_file)\n",
    "    prediction = prediction_fn(inputs=xyz_np)\n",
    "    pred = prediction['outputs'].argmax()\n",
    "    sign = ORD2SIGN[pred]\n",
    "    pred_conf = prediction['outputs'][pred]\n",
    "    print(f'PREDICTED SIGN:{sign} [{pred}], CONFIDENCE:{pred_conf:0.4}')"
   ]
  },
  {
   "cell_type": "code",
   "execution_count": 10,
   "metadata": {},
   "outputs": [
    {
     "name": "stdout",
     "output_type": "stream",
     "text": [
      "PREDICTED SIGN:duck [67], CONFIDENCE:0.3046\n"
     ]
    }
   ],
   "source": [
    "get_prediction(prediction_fn,'test23.parquet')"
   ]
  },
  {
   "cell_type": "code",
   "execution_count": 11,
   "metadata": {},
   "outputs": [
    {
     "data": {
      "text/html": [
       "<div>\n",
       "<style scoped>\n",
       "    .dataframe tbody tr th:only-of-type {\n",
       "        vertical-align: middle;\n",
       "    }\n",
       "\n",
       "    .dataframe tbody tr th {\n",
       "        vertical-align: top;\n",
       "    }\n",
       "\n",
       "    .dataframe thead th {\n",
       "        text-align: right;\n",
       "    }\n",
       "</style>\n",
       "<table border=\"1\" class=\"dataframe\">\n",
       "  <thead>\n",
       "    <tr style=\"text-align: right;\">\n",
       "      <th></th>\n",
       "      <th>path</th>\n",
       "      <th>participant_id</th>\n",
       "      <th>sequence_id</th>\n",
       "      <th>sign</th>\n",
       "      <th>sign_ord</th>\n",
       "    </tr>\n",
       "  </thead>\n",
       "  <tbody>\n",
       "    <tr>\n",
       "      <th>101</th>\n",
       "      <td>train_landmark_files/16069/10042041.parquet</td>\n",
       "      <td>16069</td>\n",
       "      <td>10042041</td>\n",
       "      <td>green</td>\n",
       "      <td>102</td>\n",
       "    </tr>\n",
       "  </tbody>\n",
       "</table>\n",
       "</div>"
      ],
      "text/plain": [
       "                                            path  participant_id  sequence_id  \\\n",
       "101  train_landmark_files/16069/10042041.parquet           16069     10042041   \n",
       "\n",
       "      sign  sign_ord  \n",
       "101  green       102  "
      ]
     },
     "execution_count": 11,
     "metadata": {},
     "output_type": "execute_result"
    }
   ],
   "source": [
    "train.query('sequence_id == 10042041')"
   ]
  },
  {
   "cell_type": "code",
   "execution_count": 12,
   "metadata": {},
   "outputs": [
    {
     "data": {
      "text/plain": [
       "array(['blow', 'wait', 'cloud', 'bird', 'owie', 'duck', 'minemy', 'lips',\n",
       "       'flower', 'time', 'vacuum', 'apple', 'puzzle', 'mitten', 'there',\n",
       "       'dry', 'shirt', 'owl', 'yellow', 'not', 'zipper', 'clean',\n",
       "       'closet', 'quiet', 'have', 'brother', 'clown', 'cheek', 'cute',\n",
       "       'store', 'shoe', 'wet', 'see', 'empty', 'fall', 'balloon',\n",
       "       'frenchfries', 'finger', 'same', 'cry', 'hungry', 'orange', 'milk',\n",
       "       'go', 'drawer', 'TV', 'another', 'giraffe', 'wake', 'bee', 'bad',\n",
       "       'can', 'say', 'callonphone', 'finish', 'old', 'backyard', 'sick',\n",
       "       'look', 'that', 'black', 'yourself', 'open', 'alligator', 'moon',\n",
       "       'find', 'pizza', 'shhh', 'fast', 'jacket', 'scissors', 'now',\n",
       "       'man', 'sticky', 'jump', 'sleep', 'sun', 'first', 'grass', 'uncle',\n",
       "       'fish', 'cowboy', 'snow', 'dryer', 'green', 'bug', 'nap', 'feet',\n",
       "       'yucky', 'morning', 'sad', 'face', 'penny', 'gift', 'night',\n",
       "       'hair', 'who', 'think', 'brown', 'mad', 'bed', 'drink', 'stay',\n",
       "       'flag', 'tooth', 'awake', 'thankyou', 'hot', 'like', 'where',\n",
       "       'hesheit', 'potty', 'down', 'stuck', 'no', 'head', 'food',\n",
       "       'pretty', 'nuts', 'animal', 'frog', 'beside', 'noisy', 'water',\n",
       "       'weus', 'happy', 'white', 'bye', 'high', 'fine', 'boat', 'all',\n",
       "       'tiger', 'pencil', 'sleepy', 'grandma', 'chocolate', 'haveto',\n",
       "       'radio', 'farm', 'any', 'zebra', 'rain', 'toy', 'donkey', 'lion',\n",
       "       'drop', 'many', 'bath', 'aunt', 'will', 'hate', 'on', 'pretend',\n",
       "       'kitty', 'fireman', 'before', 'doll', 'stairs', 'kiss', 'loud',\n",
       "       'hen', 'listen', 'give', 'wolf', 'dad', 'gum', 'hear',\n",
       "       'refrigerator', 'outside', 'cut', 'underwear', 'please', 'child',\n",
       "       'smile', 'pen', 'yesterday', 'horse', 'pig', 'table', 'eye',\n",
       "       'snack', 'story', 'police', 'arm', 'talk', 'grandpa', 'tongue',\n",
       "       'pool', 'girl', 'up', 'better', 'tree', 'dance', 'close', 'taste',\n",
       "       'chin', 'ride', 'because', 'if', 'cat', 'why', 'carrot', 'dog',\n",
       "       'mouse', 'jeans', 'shower', 'later', 'mom', 'nose', 'yes',\n",
       "       'airplane', 'book', 'blue', 'icecream', 'garbage', 'tomorrow',\n",
       "       'red', 'cow', 'person', 'puppy', 'cereal', 'touch', 'mouth', 'boy',\n",
       "       'thirsty', 'make', 'for', 'glasswindow', 'into', 'read', 'every',\n",
       "       'bedroom', 'napkin', 'ear', 'toothbrush', 'home', 'pajamas',\n",
       "       'hello', 'helicopter', 'lamp', 'room', 'dirty', 'chair', 'hat',\n",
       "       'elephant', 'after', 'car', 'hide', 'goose'], dtype=object)"
      ]
     },
     "execution_count": 12,
     "metadata": {},
     "output_type": "execute_result"
    }
   ],
   "source": [
    "train['sign'].unique()"
   ]
  },
  {
   "cell_type": "code",
   "execution_count": null,
   "metadata": {},
   "outputs": [],
   "source": []
  }
 ],
 "metadata": {
  "kernelspec": {
   "display_name": "Python 3 (ipykernel)",
   "language": "python",
   "name": "python3"
  },
  "language_info": {
   "codemirror_mode": {
    "name": "ipython",
    "version": 3
   },
   "file_extension": ".py",
   "mimetype": "text/x-python",
   "name": "python",
   "nbconvert_exporter": "python",
   "pygments_lexer": "ipython3",
   "version": "3.10.9"
  }
 },
 "nbformat": 4,
 "nbformat_minor": 4
}
